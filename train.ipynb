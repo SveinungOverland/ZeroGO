{
 "cells": [
  {
   "cell_type": "code",
   "execution_count": 1,
   "metadata": {},
   "outputs": [],
   "source": [
    "from nn import NNClient as NN\n",
    "from MonteCarlo.mcts import MCTS\n",
    "from Go.game import Game\n",
    "from Go.go import BLACK, WHITE\n",
    "from Go.environment import Environment"
   ]
  },
  {
   "cell_type": "markdown",
   "metadata": {},
   "source": [
    "### Create the training environment"
   ]
  },
  {
   "cell_type": "code",
   "execution_count": 2,
   "metadata": {},
   "outputs": [],
   "source": [
    "# Constants\n",
    "board_size = 5\n",
    "channel_size = 7\n",
    "c = 1.0"
   ]
  },
  {
   "cell_type": "code",
   "execution_count": 3,
   "metadata": {},
   "outputs": [],
   "source": [
    "agent_a = MCTS(Environment(), NN(c, board_size, channel_size), BLACK, board_size, channel_size//2)\n",
    "agent_b = MCTS(Environment(), NN(c, board_size, channel_size), WHITE, board_size, channel_size//2)"
   ]
  },
  {
   "cell_type": "code",
   "execution_count": 4,
   "metadata": {
    "scrolled": true
   },
   "outputs": [
    {
     "name": "stdout",
     "output_type": "stream",
     "text": [
      "Starting match\n",
      "0\n",
      "Rollout result:  True\n",
      "Rollout time:  0.1545870304107666\n",
      "1\n",
      "Rollout result:  True\n",
      "2\n",
      "Rollout result:  False\n",
      "3\n",
      "Rollout result:  False\n",
      "4\n",
      "Rollout result:  False\n",
      "5\n",
      "Rollout result:  True\n",
      "6\n",
      "Rollout result:  True\n",
      "7\n",
      "Rollout result:  False\n",
      "8\n",
      "Rollout result:  True\n",
      "9\n",
      "Rollout result:  False\n",
      "10\n",
      "Rollout result:  True\n",
      "11\n",
      "Rollout result:  True\n",
      "12\n",
      "Rollout result:  False\n",
      "13\n",
      "Rollout result:  False\n",
      "14\n",
      "Rollout result:  False\n",
      "15\n",
      "Rollout result:  True\n",
      "16\n",
      "Rollout result:  True\n",
      "17\n",
      "Rollout result:  True\n",
      "18\n",
      "Rollout result:  False\n",
      "19\n",
      "Rollout result:  True\n",
      "20\n",
      "Rollout result:  False\n",
      "21\n",
      "Rollout result:  True\n",
      "22\n",
      "Rollout result:  True\n",
      "23\n",
      "Rollout result:  True\n",
      "24\n",
      "Rollout result:  True\n",
      "25\n",
      "Rollout result:  True\n",
      "26\n",
      "Rollout result:  True\n",
      "27\n",
      "Rollout result:  True\n",
      "28\n",
      "Rollout result:  True\n",
      "29\n",
      "Rollout result:  True\n",
      "30\n",
      "Rollout result:  True\n",
      "31\n",
      "Rollout result:  True\n",
      "32\n",
      "Rollout result:  True\n",
      "33\n",
      "Rollout result:  True\n",
      "34\n",
      "Rollout result:  True\n",
      "35\n",
      "Rollout result:  False\n",
      "36\n",
      "Rollout result:  True\n",
      "37\n",
      "Rollout result:  False\n",
      "38\n",
      "Rollout result:  True\n",
      "39\n",
      "Rollout result:  False\n",
      "40\n",
      "Rollout result:  True\n",
      "41\n",
      "Rollout result:  True\n",
      "42\n",
      "Rollout result:  True\n",
      "43\n",
      "Rollout result:  True\n",
      "44\n",
      "Rollout result:  True\n",
      "45\n",
      "Rollout result:  True\n",
      "46\n",
      "Rollout result:  False\n",
      "47\n",
      "Rollout result:  True\n",
      "48\n",
      "Rollout result:  True\n",
      "49\n",
      "Rollout result:  True\n"
     ]
    },
    {
     "ename": "AttributeError",
     "evalue": "'MCTS' object has no attribute 'build_graph'",
     "output_type": "error",
     "traceback": [
      "\u001b[1;31m---------------------------------------------------------------------------\u001b[0m",
      "\u001b[1;31mAttributeError\u001b[0m                            Traceback (most recent call last)",
      "\u001b[1;32m<ipython-input-4-cdcd1568d80a>\u001b[0m in \u001b[0;36m<module>\u001b[1;34m\u001b[0m\n\u001b[1;32m----> 1\u001b[1;33m \u001b[0magent_a\u001b[0m\u001b[1;33m.\u001b[0m\u001b[0mtrain\u001b[0m\u001b[1;33m(\u001b[0m\u001b[0mtraining_steps\u001b[0m\u001b[1;33m=\u001b[0m\u001b[1;36m1\u001b[0m\u001b[1;33m)\u001b[0m\u001b[1;33m\u001b[0m\u001b[1;33m\u001b[0m\u001b[0m\n\u001b[0m",
      "\u001b[1;32m~\\Documents\\DataIng_Semester05\\ML\\ZeroGO\\MonteCarlo\\mcts.py\u001b[0m in \u001b[0;36mtrain\u001b[1;34m(self, training_steps)\u001b[0m\n\u001b[0;32m    123\u001b[0m             \u001b[0mprint\u001b[0m\u001b[1;33m(\u001b[0m\u001b[1;34m\"Starting match\"\u001b[0m\u001b[1;33m)\u001b[0m\u001b[1;33m\u001b[0m\u001b[1;33m\u001b[0m\u001b[0m\n\u001b[0;32m    124\u001b[0m             \u001b[1;32mwhile\u001b[0m \u001b[1;32mnot\u001b[0m \u001b[0mdone\u001b[0m\u001b[1;33m:\u001b[0m\u001b[1;33m\u001b[0m\u001b[1;33m\u001b[0m\u001b[0m\n\u001b[1;32m--> 125\u001b[1;33m                 \u001b[0maction\u001b[0m \u001b[1;33m=\u001b[0m \u001b[0mself\u001b[0m\u001b[1;33m.\u001b[0m\u001b[0mpick_action\u001b[0m\u001b[1;33m(\u001b[0m\u001b[0mstate\u001b[0m\u001b[1;33m)\u001b[0m\u001b[1;33m\u001b[0m\u001b[1;33m\u001b[0m\u001b[0m\n\u001b[0m\u001b[0;32m    126\u001b[0m                 \u001b[0mprint\u001b[0m\u001b[1;33m(\u001b[0m\u001b[1;34m\"Action: \"\u001b[0m \u001b[1;33m,\u001b[0m \u001b[0maction\u001b[0m\u001b[1;33m)\u001b[0m\u001b[1;33m\u001b[0m\u001b[1;33m\u001b[0m\u001b[0m\n\u001b[0;32m    127\u001b[0m                 \u001b[0mstate\u001b[0m\u001b[1;33m,\u001b[0m \u001b[0mdone\u001b[0m \u001b[1;33m=\u001b[0m \u001b[0mself\u001b[0m\u001b[1;33m.\u001b[0m\u001b[0menvironment\u001b[0m\u001b[1;33m.\u001b[0m\u001b[0msimulate\u001b[0m\u001b[1;33m(\u001b[0m\u001b[0mstate\u001b[0m\u001b[1;33m,\u001b[0m \u001b[0maction\u001b[0m\u001b[1;33m,\u001b[0m \u001b[0mstate_limit\u001b[0m\u001b[1;33m=\u001b[0m\u001b[0mself\u001b[0m\u001b[1;33m.\u001b[0m\u001b[0mhistory_size\u001b[0m\u001b[1;33m)\u001b[0m\u001b[1;33m\u001b[0m\u001b[1;33m\u001b[0m\u001b[0m\n",
      "\u001b[1;32m~\\Documents\\DataIng_Semester05\\ML\\ZeroGO\\MonteCarlo\\mcts.py\u001b[0m in \u001b[0;36mpick_action\u001b[1;34m(self, state)\u001b[0m\n\u001b[0;32m     54\u001b[0m \u001b[1;33m\u001b[0m\u001b[0m\n\u001b[0;32m     55\u001b[0m         \u001b[1;32mif\u001b[0m \u001b[0mvisualize\u001b[0m\u001b[1;33m:\u001b[0m\u001b[1;33m\u001b[0m\u001b[1;33m\u001b[0m\u001b[0m\n\u001b[1;32m---> 56\u001b[1;33m             \u001b[0mself\u001b[0m\u001b[1;33m.\u001b[0m\u001b[0mvisualize_tree\u001b[0m\u001b[1;33m(\u001b[0m\u001b[1;33m)\u001b[0m\u001b[1;33m\u001b[0m\u001b[1;33m\u001b[0m\u001b[0m\n\u001b[0m\u001b[0;32m     57\u001b[0m \u001b[1;33m\u001b[0m\u001b[0m\n\u001b[0;32m     58\u001b[0m         \u001b[1;32mreturn\u001b[0m \u001b[0mself\u001b[0m\u001b[1;33m.\u001b[0m\u001b[0m__find_best_action\u001b[0m\u001b[1;33m(\u001b[0m\u001b[1;33m)\u001b[0m\u001b[1;33m\u001b[0m\u001b[1;33m\u001b[0m\u001b[0m\n",
      "\u001b[1;32m~\\Documents\\DataIng_Semester05\\ML\\ZeroGO\\MonteCarlo\\mcts.py\u001b[0m in \u001b[0;36mvisualize_tree\u001b[1;34m(self)\u001b[0m\n\u001b[0;32m    185\u001b[0m     \u001b[1;32mdef\u001b[0m \u001b[0mvisualize_tree\u001b[0m\u001b[1;33m(\u001b[0m\u001b[0mself\u001b[0m\u001b[1;33m)\u001b[0m\u001b[1;33m:\u001b[0m\u001b[1;33m\u001b[0m\u001b[1;33m\u001b[0m\u001b[0m\n\u001b[0;32m    186\u001b[0m         \u001b[0mgraph\u001b[0m \u001b[1;33m=\u001b[0m \u001b[0mpydot\u001b[0m\u001b[1;33m.\u001b[0m\u001b[0mDot\u001b[0m\u001b[1;33m(\u001b[0m\u001b[0mgraph_type\u001b[0m\u001b[1;33m=\u001b[0m\u001b[1;34m'graph'\u001b[0m\u001b[1;33m)\u001b[0m\u001b[1;33m\u001b[0m\u001b[1;33m\u001b[0m\u001b[0m\n\u001b[1;32m--> 187\u001b[1;33m         \u001b[0mself\u001b[0m\u001b[1;33m.\u001b[0m\u001b[0mbuild_graph\u001b[0m\u001b[1;33m(\u001b[0m\u001b[1;32mNone\u001b[0m\u001b[1;33m,\u001b[0m \u001b[0mself\u001b[0m\u001b[1;33m.\u001b[0m\u001b[0mroot\u001b[0m\u001b[1;33m,\u001b[0m \u001b[0mgraph\u001b[0m\u001b[1;33m)\u001b[0m\u001b[1;33m\u001b[0m\u001b[1;33m\u001b[0m\u001b[0m\n\u001b[0m\u001b[0;32m    188\u001b[0m         \u001b[0mgraph\u001b[0m\u001b[1;33m.\u001b[0m\u001b[0mwrite_png\u001b[0m\u001b[1;33m(\u001b[0m\u001b[1;34m'graph.png'\u001b[0m\u001b[1;33m)\u001b[0m\u001b[1;33m\u001b[0m\u001b[1;33m\u001b[0m\u001b[0m\n",
      "\u001b[1;31mAttributeError\u001b[0m: 'MCTS' object has no attribute 'build_graph'"
     ]
    }
   ],
   "source": [
    "agent_a.train(training_steps=1)"
   ]
  },
  {
   "cell_type": "code",
   "execution_count": null,
   "metadata": {},
   "outputs": [],
   "source": []
  }
 ],
 "metadata": {
  "file_extension": ".py",
  "kernelspec": {
   "display_name": "Python 3",
   "language": "python",
   "name": "python3"
  },
  "language_info": {
   "codemirror_mode": {
    "name": "ipython",
    "version": 3
   },
   "file_extension": ".py",
   "mimetype": "text/x-python",
   "name": "python",
   "nbconvert_exporter": "python",
   "pygments_lexer": "ipython3",
   "version": "3.7.2"
  },
  "mimetype": "text/x-python",
  "name": "python",
  "npconvert_exporter": "python",
  "pygments_lexer": "ipython3",
  "version": 3
 },
 "nbformat": 4,
 "nbformat_minor": 2
}
