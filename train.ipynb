{
 "cells": [
  {
   "cell_type": "code",
   "execution_count": 1,
   "metadata": {},
   "outputs": [
    {
     "name": "stdout",
     "output_type": "stream",
     "text": [
      "2.0.0\n"
     ]
    }
   ],
   "source": [
    "from nn import NNClient as NN\n",
    "from MonteCarlo.mcts import MCTS\n",
    "from Go.game import Game\n",
    "from Go.go import BLACK, WHITE\n",
    "from Go.environment import Environment"
   ]
  },
  {
   "cell_type": "markdown",
   "metadata": {},
   "source": [
    "### Create the training environment"
   ]
  },
  {
   "cell_type": "code",
   "execution_count": 2,
   "metadata": {},
   "outputs": [],
   "source": [
    "# Constants\n",
    "board_size = 5\n",
    "channel_size = 7\n",
    "c = 1.0"
   ]
  },
  {
   "cell_type": "code",
   "execution_count": 3,
   "metadata": {},
   "outputs": [],
   "source": [
    "agent_a = MCTS(Environment(), NN(c, board_size, channel_size), BLACK, board_size, channel_size//2)\n",
    "agent_b = MCTS(Environment(), NN(c, board_size, channel_size), WHITE, board_size, channel_size//2)"
   ]
  },
  {
   "cell_type": "code",
   "execution_count": null,
   "metadata": {
    "scrolled": true
   },
   "outputs": [
    {
     "name": "stdout",
     "output_type": "stream",
     "text": [
      "Starting match\n",
      "0\n",
      "Rollout result:  True\n",
      "Rollout time:  0.28025031089782715\n",
      "1\n",
      "Rollout result:  False\n",
      "2\n",
      "Rollout result:  False\n",
      "3\n",
      "Rollout result:  False\n",
      "4\n",
      "Rollout result:  False\n",
      "5\n",
      "Rollout result:  False\n",
      "6\n",
      "Rollout result:  True\n",
      "7\n",
      "Rollout result:  True\n",
      "8\n",
      "Rollout result:  True\n",
      "9\n"
     ]
    }
   ],
   "source": [
    "agent_a.train(training_steps=1)"
   ]
  },
  {
   "cell_type": "code",
   "execution_count": null,
   "metadata": {},
   "outputs": [],
   "source": []
  }
 ],
 "metadata": {
  "file_extension": ".py",
  "kernelspec": {
   "display_name": "Python 3",
   "language": "python",
   "name": "python3"
  },
  "language_info": {
   "codemirror_mode": {
    "name": "ipython",
    "version": 3
   },
   "file_extension": ".py",
   "mimetype": "text/x-python",
   "name": "python",
   "nbconvert_exporter": "python",
   "pygments_lexer": "ipython3",
   "version": "3.7.2"
  },
  "mimetype": "text/x-python",
  "name": "python",
  "npconvert_exporter": "python",
  "pygments_lexer": "ipython3",
  "version": 3
 },
 "nbformat": 4,
 "nbformat_minor": 2
}
