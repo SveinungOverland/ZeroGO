{
  "nbformat": 4,
  "nbformat_minor": 0,
  "metadata": {
    "colab": {
      "name": "DCNN_V1.ipynb",
      "provenance": [],
      "collapsed_sections": [],
      "include_colab_link": true
    },
    "kernelspec": {
      "name": "python3",
      "display_name": "Python 3"
    }
  },
  "cells": [
    {
      "cell_type": "markdown",
      "metadata": {
        "id": "view-in-github",
        "colab_type": "text"
      },
      "source": [
        "<a href=\"https://colab.research.google.com/github/SveinungOverland/ZeroGO/blob/master/NN/DCNN_V1.ipynb\" target=\"_parent\"><img src=\"https://colab.research.google.com/assets/colab-badge.svg\" alt=\"Open In Colab\"/></a>"
      ]
    },
    {
      "cell_type": "markdown",
      "metadata": {
        "id": "8kZxYTKroxJu",
        "colab_type": "text"
      },
      "source": [
        "# Deep Convolutional Neural Net for ZeroGO V1"
      ]
    },
    {
      "cell_type": "code",
      "metadata": {
        "id": "gjaefVx0oA3q",
        "colab_type": "code",
        "outputId": "28aba602-5579-4600-c049-5f8b1f6b12de",
        "colab": {
          "base_uri": "https://localhost:8080/",
          "height": 34
        }
      },
      "source": [
        "%tensorflow_version 2.x\n",
        "import tensorflow as tf\n",
        "from tensorflow import keras\n",
        "from tensorflow.keras import layers\n",
        "\n",
        "tf.__version__"
      ],
      "execution_count": 74,
      "outputs": [
        {
          "output_type": "execute_result",
          "data": {
            "text/plain": [
              "'2.0.0'"
            ]
          },
          "metadata": {
            "tags": []
          },
          "execution_count": 74
        }
      ]
    },
    {
      "cell_type": "markdown",
      "metadata": {
        "id": "7cO_POI348NT",
        "colab_type": "text"
      },
      "source": [
        "## Layers and heads"
      ]
    },
    {
      "cell_type": "markdown",
      "metadata": {
        "id": "o3TtJeEds7MU",
        "colab_type": "text"
      },
      "source": [
        "### Residual layer"
      ]
    },
    {
      "cell_type": "code",
      "metadata": {
        "id": "OmZGNroLs_VA",
        "colab_type": "code",
        "colab": {}
      },
      "source": [
        "def add_residual_layer(x):\n",
        "  res = layers.Conv2D(256, kernel_size=(3,3), padding='same')(x)\n",
        "  res = layers.BatchNormalization(axis=1)(res)\n",
        "  res = layers.ReLU()(res)\n",
        "  res = layers.Conv2D(256, kernel_size=(3,3), padding='same')(res)\n",
        "  res = layers.BatchNormalization(axis=1)(res)\n",
        "  res = layers.ReLU()(res)\n",
        "  res = layers.add([res, x])\n",
        "  return layers.ReLU()(res)"
      ],
      "execution_count": 0,
      "outputs": []
    },
    {
      "cell_type": "markdown",
      "metadata": {
        "id": "yfCTQ7oP5G1x",
        "colab_type": "text"
      },
      "source": [
        "### Create trunk"
      ]
    },
    {
      "cell_type": "code",
      "metadata": {
        "id": "OLnWD23Q5KbW",
        "colab_type": "code",
        "colab": {}
      },
      "source": [
        "def create_trunk(shape, nr_residual_layers, filters):\n",
        "  inputs = keras.Input(shape=shape)\n",
        "  x = layers.Conv2D(filters, kernel_size=(3,3), padding='same')(inputs)\n",
        "  x = layers.BatchNormalization(axis=1)(x)\n",
        "  x = layers.ReLU()(x)\n",
        "  for i in range(nr_residual_layers):\n",
        "    x = add_residual_layer(x)\n",
        "  return keras.Model(inputs, x)"
      ],
      "execution_count": 0,
      "outputs": []
    },
    {
      "cell_type": "markdown",
      "metadata": {
        "id": "Fo1Ur6xz45Nv",
        "colab_type": "text"
      },
      "source": [
        "### Create value head"
      ]
    },
    {
      "cell_type": "code",
      "metadata": {
        "id": "hJ8eA_AV5ktR",
        "colab_type": "code",
        "colab": {}
      },
      "source": [
        "def create_value_head(shape, filters):\n",
        "    return keras.Sequential([\n",
        "        layers.Conv2D(1, kernel_size=(1,1), padding='same'),\n",
        "        layers.BatchNormalization(axis=1),\n",
        "        layers.ReLU(),\n",
        "        layers.Dense(filters),\n",
        "        layers.ReLU(),\n",
        "        layers.Dense(1, activation=\"tanh\")\n",
        "    ])"
      ],
      "execution_count": 0,
      "outputs": []
    },
    {
      "cell_type": "markdown",
      "metadata": {
        "id": "lztQJY_VUEZ0",
        "colab_type": "text"
      },
      "source": [
        "### Create policy head"
      ]
    },
    {
      "cell_type": "code",
      "metadata": {
        "id": "GVAHaFKlUGgp",
        "colab_type": "code",
        "colab": {}
      },
      "source": [
        "def create_policy_head(shape, filters):\n",
        "  return keras.Sequential([\n",
        "      layers.Conv2D(2, kernel_size=(1,1), padding='same'),\n",
        "      layers.BatchNormalization(axis=1),\n",
        "      layers.ReLU(),\n",
        "      layers.Dense(shape[0] * shape[1] + 1)\n",
        "  ])"
      ],
      "execution_count": 0,
      "outputs": []
    },
    {
      "cell_type": "markdown",
      "metadata": {
        "id": "VCBkPUeZuAon",
        "colab_type": "text"
      },
      "source": [
        "## Model class "
      ]
    },
    {
      "cell_type": "code",
      "metadata": {
        "id": "TNHZDTLLuEx8",
        "colab_type": "code",
        "colab": {}
      },
      "source": [
        "class Model:\n",
        "  def __init__(self, trunk, value_head, policy_head):\n",
        "    self.loss_fn = \n",
        "    \n",
        "    # Can be choosen by mode\n",
        "    self.trunk = trunk # Is a model\n",
        "    self.value_head = value_head\n",
        "    self.policy_head = policy_head\n",
        "  \n",
        "    # Can also be choosen by mode\n",
        "    self.value_path = keras.Sequential([self.trunk, self.value_head])\n",
        "    self.policy_path = keras.Sequential([self.trunk, self.policy_head])\n",
        "    \n",
        "  class Mode:\n",
        "    Trunk = 0\n",
        "    Value = 1\n",
        "    Policy = 2\n",
        "    ValueHead = 3\n",
        "    PolicyHead = 4\n",
        "    \n",
        "  def save(self, file_name: str):\n",
        "    print(\"Can't save yet\")\n",
        "    pass\n",
        "  \n",
        "  def __retrieve_net(self, mode):\n",
        "    if mode == Mode.Trunk:\n",
        "      net = self.trunk\n",
        "    elif mode == Mode.Value:\n",
        "      net = self.value_path\n",
        "    elif mode == Mode.Policy:\n",
        "      net = self.policy_path\n",
        "    elif mode == Mode.ValueHead:\n",
        "      net = self.value_head\n",
        "    elif mode == Mode.PolicyHead:\n",
        "      net = self.policy_head\n",
        "    else:\n",
        "      print(\"No acceptible mode given!\")\n",
        "      raise Exception(\"No acceptible mode given!\")\n",
        "    return net\n",
        "  \n",
        "  def train(self, mode: Mode, X, y):\n",
        "    net = self.__retrieve_net(mode)\n",
        "    with tf.GradientTape() as tape:\n",
        "      prediction = net(X)\n",
        "      loss = self.loss_fn(prediction, y)\n",
        "    gradients = tape.gradient(loss, net.trainable_variables)\n",
        "    optimizer.apply_gradients(zip(gradients, net.trainable_variables))\n",
        "  \n",
        "  def predict(self, mode, X):\n",
        "    net = self.__retrieve_net(mode)\n",
        "    return net(X)\n",
        "  \n",
        "  \n",
        "  @classmethod\n",
        "  def load(cls, filename):\n",
        "    print(\"Can't load yet\")\n",
        "    pass\n",
        "  \n",
        "  @classmethod\n",
        "  def create(cls, shape=(5,5,7), nr_residual_layers=10, filters=256):\n",
        "    trunk = create_trunk(shape, nr_residual_layers, filters)\n",
        "    value_head = create_value_head(shape, filters)\n",
        "    policy_head = create_policy_head(shape, filters)\n",
        "    return cls(trunk, value_head, policy_head)"
      ],
      "execution_count": 0,
      "outputs": []
    },
    {
      "cell_type": "markdown",
      "metadata": {
        "id": "MC2Z6WtrPMm2",
        "colab_type": "text"
      },
      "source": [
        "## Test"
      ]
    },
    {
      "cell_type": "code",
      "metadata": {
        "id": "kTzGWmzWPSVO",
        "colab_type": "code",
        "colab": {}
      },
      "source": [
        "model = Model.create(shape=(5,5,7), nr_residual_layers=2)"
      ],
      "execution_count": 0,
      "outputs": []
    }
  ]
}