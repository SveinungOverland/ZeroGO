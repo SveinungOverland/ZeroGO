{
  "nbformat": 4,
  "nbformat_minor": 0,
  "metadata": {
    "colab": {
      "name": "DCNN_V1.ipynb",
      "provenance": [],
      "collapsed_sections": [],
      "include_colab_link": true
    },
    "kernelspec": {
      "name": "python3",
      "display_name": "Python 3"
    }
  },
  "cells": [
    {
      "cell_type": "markdown",
      "metadata": {
        "id": "view-in-github",
        "colab_type": "text"
      },
      "source": [
        "<a href=\"https://colab.research.google.com/github/SveinungOverland/ZeroGO/blob/master/NN/DCNN_V1.ipynb\" target=\"_parent\"><img src=\"https://colab.research.google.com/assets/colab-badge.svg\" alt=\"Open In Colab\"/></a>"
      ]
    },
    {
      "cell_type": "markdown",
      "metadata": {
        "id": "8kZxYTKroxJu",
        "colab_type": "text"
      },
      "source": [
        "# Deep Convolutional Neural Net for ZeroGO V1"
      ]
    },
    {
      "cell_type": "code",
      "metadata": {
        "id": "gjaefVx0oA3q",
        "colab_type": "code",
        "colab": {
          "base_uri": "https://localhost:8080/",
          "height": 34
        },
        "outputId": "d404405b-f969-44b5-9d04-3d9a32c70005"
      },
      "source": [
        "%tensorflow_version 2.x\n",
        "import tensorflow as tf\n",
        "from tensorflow import keras\n",
        "from tensorflow.keras import layers\n",
        "\n",
        "tf.__version__"
      ],
      "execution_count": 3,
      "outputs": [
        {
          "output_type": "execute_result",
          "data": {
            "text/plain": [
              "'2.0.0'"
            ]
          },
          "metadata": {
            "tags": []
          },
          "execution_count": 3
        }
      ]
    },
    {
      "cell_type": "markdown",
      "metadata": {
        "id": "7cO_POI348NT",
        "colab_type": "text"
      },
      "source": [
        "## Layers and heads"
      ]
    },
    {
      "cell_type": "markdown",
      "metadata": {
        "id": "o3TtJeEds7MU",
        "colab_type": "text"
      },
      "source": [
        "### Residual layer"
      ]
    },
    {
      "cell_type": "code",
      "metadata": {
        "id": "OmZGNroLs_VA",
        "colab_type": "code",
        "colab": {}
      },
      "source": [
        "class Residual(layers.Layer):\n",
        "  def __init__(self, **kwargs):\n",
        "    super(Residual, self).__init__(**kwargs)\n",
        "    self.conv1 = layers.Conv2D(256, kernel_size=(3,3))\n",
        "    self.norm1 = layers.BatchNormalization()\n",
        "    self.relu1 = layers.ReLU()\n",
        "    self.conv2 = layers.Conv2D(256, kernel_size=(3,3))\n",
        "    self.norm2 = layers.BatchNormalization()\n",
        "    self.relu2 = layers.ReLU()\n",
        "    self.add = layers.Add()\n",
        "    self.relu3 = layers.ReLU()\n",
        "    \n",
        "  def build(self, input_shape):\n",
        "    # Create trainable weight variable for this layer.\n",
        "    self.kernel = self.add_weight(name='kernel',\n",
        "                                 shape=(input_shape[1]),\n",
        "                                 initializer='uniform',\n",
        "                                 trainable=True)\n",
        "    \n",
        "  def call(self, inputs):\n",
        "    x = self.conv1(inputs)\n",
        "    x = self.norm1(x)\n",
        "    x = self.relu1(x)\n",
        "    x = self.conv2(x)\n",
        "    x = self.norm2(x)\n",
        "    x = self.relu2(x)\n",
        "    x = self.add(x, inputs) # with relu\n",
        "    return self.relu3(x)"
      ],
      "execution_count": 0,
      "outputs": []
    },
    {
      "cell_type": "markdown",
      "metadata": {
        "id": "yfCTQ7oP5G1x",
        "colab_type": "text"
      },
      "source": [
        "### Create trunk"
      ]
    },
    {
      "cell_type": "code",
      "metadata": {
        "id": "OLnWD23Q5KbW",
        "colab_type": "code",
        "colab": {}
      },
      "source": [
        "def create_trunk(shape, nr_residual_layers):\n",
        "  return keras.Sequential([\n",
        "      layers.Conv2D(input_shape=shape),\n",
        "      layers.BatchNormalization(),\n",
        "      layers.ReLU(),\n",
        "      Residual() for _ in range(nr_residual_layers)\n",
        "  ])"
      ],
      "execution_count": 0,
      "outputs": []
    },
    {
      "cell_type": "markdown",
      "metadata": {
        "id": "Fo1Ur6xz45Nv",
        "colab_type": "text"
      },
      "source": [
        "### Create value head"
      ]
    },
    {
      "cell_type": "code",
      "metadata": {
        "id": "hJ8eA_AV5ktR",
        "colab_type": "code",
        "colab": {
          "base_uri": "https://localhost:8080/",
          "height": 130
        },
        "outputId": "39c5f844-68d6-45ce-f6ff-9ac5a84c1134"
      },
      "source": [
        "def create_value_head(shape):\n",
        "    return keras.Sequential([\n",
        "        layers.Conv2D(1, kernel_size=(1,1)),\n",
        "        layers.BatchNormalization(),\n",
        "        layers.ReLU(),\n",
        "        layers.Dense(256),\n",
        "        layers.ReLU(),\n",
        "        layers.Dense(1, activation=\"tanh\")\n",
        "    ])"
      ],
      "execution_count": 5,
      "outputs": [
        {
          "output_type": "error",
          "ename": "SyntaxError",
          "evalue": "ignored",
          "traceback": [
            "\u001b[0;36m  File \u001b[0;32m\"<ipython-input-5-4f6242d70572>\"\u001b[0;36m, line \u001b[0;32m2\u001b[0m\n\u001b[0;31m    \u001b[0m\n\u001b[0m    ^\u001b[0m\n\u001b[0;31mSyntaxError\u001b[0m\u001b[0;31m:\u001b[0m unexpected EOF while parsing\n"
          ]
        }
      ]
    },
    {
      "cell_type": "code",
      "metadata": {
        "colab_type": "code",
        "id": "YGn0VIAuL3GY",
        "colab": {}
      },
      "source": [
        ""
      ],
      "execution_count": 0,
      "outputs": []
    },
    {
      "cell_type": "markdown",
      "metadata": {
        "id": "VCBkPUeZuAon",
        "colab_type": "text"
      },
      "source": [
        "## Create new model "
      ]
    },
    {
      "cell_type": "code",
      "metadata": {
        "id": "TNHZDTLLuEx8",
        "colab_type": "code",
        "colab": {}
      },
      "source": [
        "class Model:\n",
        "  def __init__(self, trunk, value_head, policy_head):\n",
        "    # Can be choosen by mode\n",
        "    self.trunk = trunk\n",
        "    self.value_head = value_head\n",
        "    self.policy_head = policy_head\n",
        "  \n",
        "    # Can also be choosen by mode\n",
        "    self.value_path = self.value_head(self.trunk)\n",
        "    self.policy_path = self.policy_head(self.trunk)\n",
        "    \n",
        "  def save(self, file_name: str):\n",
        "    pass\n",
        "  \n",
        "  def train(self, mode, X, y):\n",
        "    pass\n",
        "  \n",
        "  def predict(self, mode, X):\n",
        "    pass\n",
        "    \n",
        "\n",
        "  def create_new_model(shape=(5,5,7), nr_residual_layers=10) -> Model:\n",
        "    trunk = create_trunk(shape, nr_residual_layers)\n",
        "    value_head = create_value_head()\n",
        "    policy_head = create_policy_head(shape)\n",
        "\n",
        "    return Model(trunk, value_head, policy_head)"
      ],
      "execution_count": 0,
      "outputs": []
    },
    {
      "cell_type": "markdown",
      "metadata": {
        "id": "CrJHxUfSpM3C",
        "colab_type": "text"
      },
      "source": [
        ""
      ]
    },
    {
      "cell_type": "code",
      "metadata": {
        "id": "oqAJKEuRqPfB",
        "colab_type": "code",
        "colab": {}
      },
      "source": [
        "trunk = keras.Input(shape=(5,5,5))"
      ],
      "execution_count": 0,
      "outputs": []
    }
  ]
}